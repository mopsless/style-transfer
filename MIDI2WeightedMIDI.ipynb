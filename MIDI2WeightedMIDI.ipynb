{
 "cells": [
  {
   "cell_type": "code",
   "execution_count": 16,
   "id": "685834d2",
   "metadata": {},
   "outputs": [],
   "source": [
    "import numpy as np"
   ]
  },
  {
   "cell_type": "markdown",
   "id": "7cea3c00",
   "metadata": {},
   "source": [
    "Here we experiment with the transition of the i-th MIDI pitch the weighted combination of MIDI-pitches\n",
    "\n",
    "Transformation matrix: "
   ]
  },
  {
   "cell_type": "code",
   "execution_count": 17,
   "id": "1eaad09f",
   "metadata": {},
   "outputs": [],
   "source": [
    "T = np.load('TransitionMatrix.npy')"
   ]
  },
  {
   "cell_type": "code",
   "execution_count": 18,
   "id": "3e98ce48",
   "metadata": {},
   "outputs": [
    {
     "data": {
      "text/plain": [
       "(128, 128)"
      ]
     },
     "execution_count": 18,
     "metadata": {},
     "output_type": "execute_result"
    }
   ],
   "source": [
    "T.shape"
   ]
  },
  {
   "cell_type": "code",
   "execution_count": 19,
   "id": "1a700fd2",
   "metadata": {},
   "outputs": [
    {
     "data": {
      "text/plain": [
       "array([1., 1., 1., 1., 1., 1., 1., 1., 1., 1., 1., 1., 1., 1., 1., 1., 1.,\n",
       "       1., 1., 1., 1., 1., 1., 1., 1., 1., 1., 1., 1., 1., 1., 1., 1., 1.,\n",
       "       1., 1., 1., 1., 1., 1., 1., 1., 1., 1., 1., 1., 1., 1., 1., 1., 1.,\n",
       "       1., 1., 1., 1., 1., 1., 1., 1., 1., 1., 1., 1., 1., 1., 1., 1., 1.,\n",
       "       1., 1., 1., 1., 1., 1., 1., 1., 1., 1., 1., 1., 1., 1., 1., 1., 1.,\n",
       "       1., 1., 1., 1., 1., 1., 1., 1., 1., 1., 1., 1., 1., 1., 1., 1., 1.,\n",
       "       1., 1., 1., 1., 1., 1., 1., 1., 1., 1., 1., 1., 1., 1., 1., 1., 1.,\n",
       "       1., 1., 1., 1., 1., 1., 1., 1., 1.])"
      ]
     },
     "execution_count": 19,
     "metadata": {},
     "output_type": "execute_result"
    }
   ],
   "source": [
    "T.sum(axis=1)"
   ]
  },
  {
   "cell_type": "markdown",
   "id": "2a254535",
   "metadata": {},
   "source": [
    "## Reading & transforming MIDI\n",
    "\n",
    "We read MIDI-file, transform it into numpy-array, where **pitches follow columns, time runs along rows**.\n",
    "\n",
    "Nonzero values of this array are the values of velocity of the pitch in the original composition.\n",
    "\n",
    "Henceforth we first **element-wisely** take the root of degree 4 from elements of the matrix `T`, so that the matrix transforms the velocity:\n",
    "\n",
    "$$\\text{new velocity}(i)=\\sum_{j} j \\cdot (T^{1/4})_{ij}$$\n",
    "\n",
    "Since MIDI-matrices encode velocity\n",
    "\n",
    "$$M_{ij} = \\text{velocity of j-th note at i-th time step} =  M_{ij}$$\n",
    "\n",
    "the image of the MIDI-matrix is given by its multiplication from the right to the matrix $T^{1/4}$ (not its transpose):\n",
    "\n",
    "$$M_{ik}^\\text{new} = M_{ij}^\\text{old}~(T^{1/4})_{jk} $$"
   ]
  },
  {
   "cell_type": "code",
   "execution_count": 20,
   "id": "d11b517f",
   "metadata": {},
   "outputs": [],
   "source": [
    "from read_midi import Read_midi\n",
    "\n",
    "from write_midi import write_midi"
   ]
  },
  {
   "cell_type": "code",
   "execution_count": 21,
   "id": "147f0a09",
   "metadata": {},
   "outputs": [],
   "source": [
    "T_4th_root = T ** (1/4)"
   ]
  },
  {
   "cell_type": "code",
   "execution_count": 22,
   "id": "44890c4d",
   "metadata": {},
   "outputs": [],
   "source": [
    "filename = 'handel_passacaigle.mid'\n",
    "\n",
    "RM = Read_midi(song_path=filename,quantization=4)\n",
    "\n",
    "m = RM.read_file()"
   ]
  },
  {
   "cell_type": "code",
   "execution_count": 23,
   "id": "94a4c720",
   "metadata": {},
   "outputs": [],
   "source": [
    "for key in m.keys():\n",
    "    m[key] = m[key] @ T_4th_root\n",
    "    m[key] /= m[key].max()\n",
    "    m[key] *= 127\n",
    "    m[key] = np.round(m[key]).astype(int)\n",
    "    \n",
    "write_midi(m, ticks_per_beat=4, write_path='weighted_MIDI_transform_'+filename, tempo=80)"
   ]
  },
  {
   "cell_type": "code",
   "execution_count": null,
   "id": "64e0942e",
   "metadata": {},
   "outputs": [],
   "source": []
  }
 ],
 "metadata": {
  "kernelspec": {
   "display_name": "Python 3 (ipykernel)",
   "language": "python",
   "name": "python3"
  },
  "language_info": {
   "codemirror_mode": {
    "name": "ipython",
    "version": 3
   },
   "file_extension": ".py",
   "mimetype": "text/x-python",
   "name": "python",
   "nbconvert_exporter": "python",
   "pygments_lexer": "ipython3",
   "version": "3.9.13"
  }
 },
 "nbformat": 4,
 "nbformat_minor": 5
}
